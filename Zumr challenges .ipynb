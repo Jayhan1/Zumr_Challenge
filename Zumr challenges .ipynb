{
 "cells": [
  {
   "cell_type": "markdown",
   "id": "d7bcc2f8",
   "metadata": {},
   "source": [
    "# Zumr challenges "
   ]
  },
  {
   "cell_type": "markdown",
   "id": "ce5f6814",
   "metadata": {},
   "source": [
    "### In this project i aim to create a model that can accurately predict how long patients, with lung cancer will survive after receiving chemotherapy. The dataset contains factors that could potentially affect the predicted survival time."
   ]
  },
  {
   "cell_type": "code",
   "execution_count": 187,
   "id": "e3a678b7",
   "metadata": {},
   "outputs": [
    {
     "name": "stdout",
     "output_type": "stream",
     "text": [
      "Requirement already satisfied: imbalanced-learn in c:\\users\\alnof\\anaconda3\\lib\\site-packages (0.11.0)\n",
      "Requirement already satisfied: numpy>=1.17.3 in c:\\users\\alnof\\anaconda3\\lib\\site-packages (from imbalanced-learn) (1.24.3)\n",
      "Requirement already satisfied: scipy>=1.5.0 in c:\\users\\alnof\\anaconda3\\lib\\site-packages (from imbalanced-learn) (1.10.1)\n",
      "Requirement already satisfied: scikit-learn>=1.0.2 in c:\\users\\alnof\\anaconda3\\lib\\site-packages (from imbalanced-learn) (1.3.0)\n",
      "Requirement already satisfied: joblib>=1.1.1 in c:\\users\\alnof\\anaconda3\\lib\\site-packages (from imbalanced-learn) (1.2.0)\n",
      "Requirement already satisfied: threadpoolctl>=2.0.0 in c:\\users\\alnof\\anaconda3\\lib\\site-packages (from imbalanced-learn) (2.2.0)\n",
      "Note: you may need to restart the kernel to use updated packages.\n"
     ]
    }
   ],
   "source": [
    "pip install -U imbalanced-learn"
   ]
  },
  {
   "cell_type": "markdown",
   "id": "3c4e4209",
   "metadata": {},
   "source": [
    "### Load the Data:"
   ]
  },
  {
   "cell_type": "code",
   "execution_count": 128,
   "id": "b385c6fe",
   "metadata": {},
   "outputs": [
    {
     "name": "stdout",
     "output_type": "stream",
     "text": [
      "Collecting package metadata (current_repodata.json): ...working... done\n",
      "Solving environment: ...working... done\n",
      "\n",
      "## Package Plan ##\n",
      "\n",
      "  environment location: C:\\Users\\alnof\\anaconda3\n",
      "\n",
      "  added / updated specs:\n",
      "    - imbalanced-learn\n",
      "\n",
      "\n",
      "The following packages will be downloaded:\n",
      "\n",
      "    package                    |            build\n",
      "    ---------------------------|-----------------\n",
      "    ca-certificates-2023.7.22  |       h56e8100_0         146 KB  conda-forge\n",
      "    certifi-2023.7.22          |     pyhd8ed1ab_0         150 KB  conda-forge\n",
      "    conda-23.7.2               |  py311h1ea47a8_0         1.3 MB  conda-forge\n",
      "    imbalanced-learn-0.11.0    |     pyhd8ed1ab_0         138 KB  conda-forge\n",
      "    openssl-1.1.1v             |       h2bbff1b_0         5.5 MB\n",
      "    python_abi-3.11            |          2_cp311           5 KB  conda-forge\n",
      "    ------------------------------------------------------------\n",
      "                                           Total:         7.2 MB\n",
      "\n",
      "The following NEW packages will be INSTALLED:\n",
      "\n",
      "  python_abi         conda-forge/win-64::python_abi-3.11-2_cp311 \n",
      "\n",
      "The following packages will be UPDATED:\n",
      "\n",
      "  ca-certificates    pkgs/main::ca-certificates-2023.05.30~ --> conda-forge::ca-certificates-2023.7.22-h56e8100_0 \n",
      "  imbalanced-learn   pkgs/main/win-64::imbalanced-learn-0.~ --> conda-forge/noarch::imbalanced-learn-0.11.0-pyhd8ed1ab_0 \n",
      "  openssl                                 1.1.1u-h2bbff1b_0 --> 1.1.1v-h2bbff1b_0 \n",
      "\n",
      "The following packages will be SUPERSEDED by a higher-priority channel:\n",
      "\n",
      "  certifi            pkgs/main/win-64::certifi-2023.7.22-p~ --> conda-forge/noarch::certifi-2023.7.22-pyhd8ed1ab_0 \n",
      "  conda              pkgs/main::conda-23.7.2-py311haa95532~ --> conda-forge::conda-23.7.2-py311h1ea47a8_0 \n",
      "\n",
      "\n",
      "\n",
      "Downloading and Extracting Packages\n",
      "\n",
      "openssl-1.1.1v       | 5.5 MB    |            |   0% \n",
      "\n",
      "certifi-2023.7.22    | 150 KB    |            |   0% \u001b[A\n",
      "\n",
      "\n",
      "imbalanced-learn-0.1 | 138 KB    |            |   0% \u001b[A\u001b[A\n",
      "\n",
      "\n",
      "\n",
      "python_abi-3.11      | 5 KB      |            |   0% \u001b[A\u001b[A\u001b[A\n",
      "\n",
      "\n",
      "\n",
      "\n",
      "ca-certificates-2023 | 146 KB    |            |   0% \u001b[A\u001b[A\u001b[A\u001b[A\n",
      "\n",
      "\n",
      "\n",
      "\n",
      "\n",
      "conda-23.7.2         | 1.3 MB    |            |   0% \u001b[A\u001b[A\u001b[A\u001b[A\u001b[A\n",
      "openssl-1.1.1v       | 5.5 MB    |            |   0% \n",
      "\n",
      "\n",
      "\n",
      "\n",
      "ca-certificates-2023 | 146 KB    | #          |  11% \u001b[A\u001b[A\u001b[A\u001b[A\n",
      "\n",
      "certifi-2023.7.22    | 150 KB    | #          |  11% \u001b[A\n",
      "openssl-1.1.1v       | 5.5 MB    | #3         |  14% \n",
      "\n",
      "\n",
      "\n",
      "\n",
      "ca-certificates-2023 | 146 KB    | ########## | 100% \u001b[A\u001b[A\u001b[A\u001b[A\n",
      "\n",
      "\n",
      "\n",
      "\n",
      "ca-certificates-2023 | 146 KB    | ########## | 100% \u001b[A\u001b[A\u001b[A\u001b[A\n",
      "openssl-1.1.1v       | 5.5 MB    | ###1       |  31% \n",
      "\n",
      "certifi-2023.7.22    | 150 KB    | ########## | 100% \u001b[A\n",
      "\n",
      "certifi-2023.7.22    | 150 KB    | ########## | 100% \u001b[A\n",
      "openssl-1.1.1v       | 5.5 MB    | #####2     |  52% \n",
      "\n",
      "\n",
      "\n",
      "python_abi-3.11      | 5 KB      | ########## | 100% \u001b[A\u001b[A\u001b[A\n",
      "\n",
      "\n",
      "\n",
      "python_abi-3.11      | 5 KB      | ########## | 100% \u001b[A\u001b[A\u001b[A\n",
      "openssl-1.1.1v       | 5.5 MB    | #######2   |  73% \n",
      "\n",
      "\n",
      "\n",
      "\n",
      "\n",
      "conda-23.7.2         | 1.3 MB    | 1          |   1% \u001b[A\u001b[A\u001b[A\u001b[A\u001b[A\n",
      "openssl-1.1.1v       | 5.5 MB    | #########1 |  92% \n",
      "\n",
      "\n",
      "imbalanced-learn-0.1 | 138 KB    | #1         |  12% \u001b[A\u001b[A\n",
      "\n",
      "\n",
      "\n",
      "\n",
      "\n",
      "conda-23.7.2         | 1.3 MB    | #9         |  19% \u001b[A\u001b[A\u001b[A\u001b[A\u001b[A\n",
      "\n",
      "\n",
      "imbalanced-learn-0.1 | 138 KB    | ##3        |  23% \u001b[A\u001b[A\n",
      "\n",
      "\n",
      "\n",
      "\n",
      "\n",
      "conda-23.7.2         | 1.3 MB    | ###6       |  36% \u001b[A\u001b[A\u001b[A\u001b[A\u001b[A\n",
      "\n",
      "\n",
      "\n",
      "\n",
      "\n",
      "conda-23.7.2         | 1.3 MB    | #####3     |  54% \u001b[A\u001b[A\u001b[A\u001b[A\u001b[A\n",
      "\n",
      "\n",
      "\n",
      "\n",
      "\n",
      "conda-23.7.2         | 1.3 MB    | #######    |  71% \u001b[A\u001b[A\u001b[A\u001b[A\u001b[A\n",
      "openssl-1.1.1v       | 5.5 MB    | ########## | 100% \n",
      "\n",
      "\n",
      "imbalanced-learn-0.1 | 138 KB    | ####6      |  46% \u001b[A\u001b[A\n",
      "\n",
      "\n",
      "imbalanced-learn-0.1 | 138 KB    | ########## | 100% \u001b[A\u001b[A\n",
      "\n",
      "\n",
      "imbalanced-learn-0.1 | 138 KB    | ########## | 100% \u001b[A\u001b[A\n",
      "\n",
      "\n",
      "\n",
      "\n",
      "\n",
      "conda-23.7.2         | 1.3 MB    | ########## | 100% \u001b[A\u001b[A\u001b[A\u001b[A\u001b[A\n",
      "\n",
      "\n",
      "\n",
      "\n",
      "\n",
      "conda-23.7.2         | 1.3 MB    | ########## | 100% \u001b[A\u001b[A\u001b[A\u001b[A\u001b[A\n",
      "                                                     \n",
      "\n",
      "\n",
      "                                                     \u001b[A\n",
      "\n",
      "\n",
      "                                                     \u001b[A\u001b[A\n",
      "\n",
      "\n",
      "\n",
      "                                                     \u001b[A\u001b[A\u001b[A\n",
      "\n",
      "\n",
      "\n",
      "\n",
      "                                                     \u001b[A\u001b[A\u001b[A\u001b[A\n",
      "\n",
      "\n",
      "\n",
      "\n",
      "\n",
      "                                                     \u001b[A\u001b[A\u001b[A\u001b[A\u001b[A\n",
      "\n",
      "Preparing transaction: ...working... done\n",
      "Verifying transaction: ...working... done\n",
      "Executing transaction: ...working... done\n",
      "\n",
      "Note: you may need to restart the kernel to use updated packages.\n"
     ]
    },
    {
     "name": "stderr",
     "output_type": "stream",
     "text": [
      "DEBUG:urllib3.connectionpool:Starting new HTTPS connection (1): conda.anaconda.org:443\n",
      "DEBUG:urllib3.connectionpool:Starting new HTTPS connection (1): conda.anaconda.org:443\n",
      "DEBUG:urllib3.connectionpool:Starting new HTTPS connection (1): repo.anaconda.com:443\n",
      "DEBUG:urllib3.connectionpool:Starting new HTTPS connection (1): repo.anaconda.com:443\n",
      "DEBUG:urllib3.connectionpool:Starting new HTTPS connection (1): repo.anaconda.com:443\n",
      "DEBUG:urllib3.connectionpool:Starting new HTTPS connection (1): repo.anaconda.com:443\n",
      "DEBUG:urllib3.connectionpool:Starting new HTTPS connection (1): repo.anaconda.com:443\n",
      "DEBUG:urllib3.connectionpool:Starting new HTTPS connection (1): repo.anaconda.com:443\n",
      "DEBUG:urllib3.connectionpool:https://repo.anaconda.com:443 \"GET /pkgs/msys2/win-64/current_repodata.json HTTP/1.1\" 200 None\n",
      "DEBUG:urllib3.connectionpool:https://repo.anaconda.com:443 \"GET /pkgs/main/noarch/current_repodata.json HTTP/1.1\" 200 None\n",
      "DEBUG:urllib3.connectionpool:https://repo.anaconda.com:443 \"GET /pkgs/msys2/noarch/current_repodata.json HTTP/1.1\" 200 None\n",
      "DEBUG:urllib3.connectionpool:https://repo.anaconda.com:443 \"GET /pkgs/main/win-64/current_repodata.json HTTP/1.1\" 200 None\n",
      "DEBUG:urllib3.connectionpool:https://repo.anaconda.com:443 \"GET /pkgs/r/noarch/current_repodata.json HTTP/1.1\" 200 None\n",
      "DEBUG:urllib3.connectionpool:https://repo.anaconda.com:443 \"GET /pkgs/r/win-64/current_repodata.json HTTP/1.1\" 200 None\n",
      "DEBUG:urllib3.connectionpool:https://conda.anaconda.org:443 \"GET /conda-forge/win-64/current_repodata.json HTTP/1.1\" 200 None\n",
      "DEBUG:urllib3.connectionpool:https://conda.anaconda.org:443 \"GET /conda-forge/noarch/current_repodata.json HTTP/1.1\" 200 None\n",
      "DEBUG:urllib3.connectionpool:Starting new HTTPS connection (1): repo.anaconda.com:443\n",
      "DEBUG:urllib3.connectionpool:Starting new HTTPS connection (1): conda.anaconda.org:443\n",
      "DEBUG:urllib3.connectionpool:Starting new HTTPS connection (1): conda.anaconda.org:443\n",
      "DEBUG:urllib3.connectionpool:Starting new HTTPS connection (1): conda.anaconda.org:443\n",
      "DEBUG:urllib3.connectionpool:Starting new HTTPS connection (1): conda.anaconda.org:443\n",
      "DEBUG:urllib3.connectionpool:https://repo.anaconda.com:443 \"GET /pkgs/main/win-64/openssl-1.1.1v-h2bbff1b_0.conda HTTP/1.1\" 200 5773548\n",
      "DEBUG:urllib3.connectionpool:https://conda.anaconda.org:443 \"GET /conda-forge/win-64/ca-certificates-2023.7.22-h56e8100_0.conda HTTP/1.1\" 200 150013\n",
      "DEBUG:urllib3.connectionpool:https://conda.anaconda.org:443 \"GET /conda-forge/noarch/certifi-2023.7.22-pyhd8ed1ab_0.conda HTTP/1.1\" 200 153791\n",
      "DEBUG:urllib3.connectionpool:https://conda.anaconda.org:443 \"GET /conda-forge/win-64/python_abi-3.11-2_cp311.tar.bz2 HTTP/1.1\" 200 5083\n",
      "DEBUG:urllib3.connectionpool:https://conda.anaconda.org:443 \"GET /conda-forge/win-64/conda-23.7.2-py311h1ea47a8_0.conda HTTP/1.1\" 200 1347140\n",
      "DEBUG:urllib3.connectionpool:https://conda.anaconda.org:443 \"GET /conda-forge/noarch/imbalanced-learn-0.11.0-pyhd8ed1ab_0.conda HTTP/1.1\" 200 141144\n"
     ]
    }
   ],
   "source": [
    "conda install -c conda-forge imbalanced-learn"
   ]
  },
  {
   "cell_type": "code",
   "execution_count": 126,
   "id": "26deb6cb",
   "metadata": {},
   "outputs": [
    {
     "name": "stdout",
     "output_type": "stream",
     "text": [
      "Requirement already satisfied: imbalanced-learn in c:\\users\\alnof\\anaconda3\\lib\\site-packages (0.10.1)\n",
      "Requirement already satisfied: numpy>=1.17.3 in c:\\users\\alnof\\anaconda3\\lib\\site-packages (from imbalanced-learn) (1.24.3)\n",
      "Requirement already satisfied: scipy>=1.3.2 in c:\\users\\alnof\\anaconda3\\lib\\site-packages (from imbalanced-learn) (1.10.1)\n",
      "Requirement already satisfied: scikit-learn>=1.0.2 in c:\\users\\alnof\\anaconda3\\lib\\site-packages (from imbalanced-learn) (1.3.0)\n",
      "Requirement already satisfied: joblib>=1.1.1 in c:\\users\\alnof\\anaconda3\\lib\\site-packages (from imbalanced-learn) (1.2.0)\n",
      "Requirement already satisfied: threadpoolctl>=2.0.0 in c:\\users\\alnof\\anaconda3\\lib\\site-packages (from imbalanced-learn) (2.2.0)\n",
      "Note: you may need to restart the kernel to use updated packages.\n"
     ]
    }
   ],
   "source": [
    "pip install imbalanced-learn"
   ]
  },
  {
   "cell_type": "markdown",
   "id": "4d2560d2",
   "metadata": {},
   "source": [
    "# Import Libraries:"
   ]
  },
  {
   "cell_type": "code",
   "execution_count": 188,
   "id": "0fa9cf6d",
   "metadata": {},
   "outputs": [],
   "source": [
    "import pandas as pd\n",
    "from sklearn.preprocessing import StandardScaler\n",
    "from sklearn.model_selection import train_test_split\n",
    "from sklearn.linear_model import LinearRegression\n",
    "from sklearn.metrics import mean_squared_error, r2_score\n",
    "from sklearn.preprocessing import StandardScaler\n",
    "from sklearn.metrics import mean_squared_error\n",
    "from sklearn.ensemble import RandomForestClassifier\n",
    "import numpy as np\n",
    "\n"
   ]
  },
  {
   "cell_type": "code",
   "execution_count": null,
   "id": "3b7e4100",
   "metadata": {},
   "outputs": [],
   "source": [
    "data=pd.read_fwf('VA_lung_cancer_data1.txt', header=None)\n",
    "data"
   ]
  },
  {
   "cell_type": "code",
   "execution_count": 189,
   "id": "b281050b",
   "metadata": {},
   "outputs": [
    {
     "name": "stdout",
     "output_type": "stream",
     "text": [
      "     Treatment   Cell type  Number_days_join  Status   Karnofsky_score   \\\n",
      "0            1           1                72       1                 60   \n",
      "1            1           1               411       1                 70   \n",
      "2            1           1               228       1                 60   \n",
      "3            1           1               126       1                 60   \n",
      "4            1           1               118       1                 70   \n",
      "..         ...         ...               ...     ...                ...   \n",
      "132          2           4               133       1                 75   \n",
      "133          2           4               111       1                 60   \n",
      "134          2           4               231       1                 70   \n",
      "135          2           4               378       1                 80   \n",
      "136          2           4                49       1                 30   \n",
      "\n",
      "     Months_from_Diagnosis  Age( years)  Prior_therapy  \n",
      "0                        7           69              0  \n",
      "1                        5           64             10  \n",
      "2                        3           38              0  \n",
      "3                        9           63             10  \n",
      "4                       11           65             10  \n",
      "..                     ...          ...            ...  \n",
      "132                      1           65              0  \n",
      "133                      5           64              0  \n",
      "134                     18           67             10  \n",
      "135                      4           65              0  \n",
      "136                      3           37              0  \n",
      "\n",
      "[137 rows x 8 columns]\n"
     ]
    }
   ],
   "source": [
    "data = pd.read_csv('VA_lung_cancer_data1.txt', sep=\"\\s{4}\", header = None, engine='python')\n",
    "# Display the data\n",
    "print(data)\n"
   ]
  },
  {
   "cell_type": "markdown",
   "id": "8c0e70bc",
   "metadata": {},
   "source": [
    "# Explore the data"
   ]
  },
  {
   "cell_type": "markdown",
   "id": "8af6076a",
   "metadata": {},
   "source": [
    " for better understanding of the data(looking at the data types of the features, the distribution of the data, and any missing values.)"
   ]
  },
  {
   "cell_type": "code",
   "execution_count": 190,
   "id": "d757f8cf",
   "metadata": {},
   "outputs": [
    {
     "data": {
      "text/plain": [
       "Index(['Treatment', ' Cell type', 'Number_days_join', 'Status',\n",
       "       ' Karnofsky_score ', 'Months_from_Diagnosis', 'Age( years)',\n",
       "       'Prior_therapy'],\n",
       "      dtype='object')"
      ]
     },
     "execution_count": 190,
     "metadata": {},
     "output_type": "execute_result"
    }
   ],
   "source": [
    "data.columns"
   ]
  },
  {
   "cell_type": "code",
   "execution_count": 191,
   "id": "9323a602",
   "metadata": {},
   "outputs": [
    {
     "name": "stdout",
     "output_type": "stream",
     "text": [
      "<class 'pandas.core.frame.DataFrame'>\n",
      "RangeIndex: 137 entries, 0 to 136\n",
      "Data columns (total 8 columns):\n",
      " #   Column                 Non-Null Count  Dtype\n",
      "---  ------                 --------------  -----\n",
      " 0   Treatment              137 non-null    int64\n",
      " 1    Cell type             137 non-null    int64\n",
      " 2   Number_days_join       137 non-null    int64\n",
      " 3   Status                 137 non-null    int64\n",
      " 4    Karnofsky_score       137 non-null    int64\n",
      " 5   Months_from_Diagnosis  137 non-null    int64\n",
      " 6   Age( years)            137 non-null    int64\n",
      " 7   Prior_therapy          137 non-null    int64\n",
      "dtypes: int64(8)\n",
      "memory usage: 8.7 KB\n",
      "None\n",
      "        Treatment   Cell type  Number_days_join      Status  \\\n",
      "count  137.000000  137.000000        137.000000  137.000000   \n",
      "mean     1.496350    2.335766        121.627737    0.934307   \n",
      "std      0.501821    1.066036        157.816722    0.248655   \n",
      "min      1.000000    1.000000          1.000000    0.000000   \n",
      "25%      1.000000    1.000000         25.000000    1.000000   \n",
      "50%      1.000000    2.000000         80.000000    1.000000   \n",
      "75%      2.000000    3.000000        144.000000    1.000000   \n",
      "max      2.000000    4.000000        999.000000    1.000000   \n",
      "\n",
      "        Karnofsky_score   Months_from_Diagnosis  Age( years)  Prior_therapy  \n",
      "count         137.000000             137.000000   137.000000     137.000000  \n",
      "mean           58.635036               8.773723    58.306569       2.919708  \n",
      "std            20.059058              10.612141    10.541628       4.563375  \n",
      "min            10.000000               1.000000    34.000000       0.000000  \n",
      "25%            40.000000               3.000000    51.000000       0.000000  \n",
      "50%            60.000000               5.000000    62.000000       0.000000  \n",
      "75%            75.000000              11.000000    66.000000      10.000000  \n",
      "max            99.000000              87.000000    81.000000      10.000000  \n",
      "Treatment                0\n",
      " Cell type               0\n",
      "Number_days_join         0\n",
      "Status                   0\n",
      " Karnofsky_score         0\n",
      "Months_from_Diagnosis    0\n",
      "Age( years)              0\n",
      "Prior_therapy            0\n",
      "dtype: int64\n"
     ]
    }
   ],
   "source": [
    "print(data.info())\n",
    "print(data.describe())\n",
    "print(data.isnull().sum())"
   ]
  },
  {
   "cell_type": "markdown",
   "id": "a1d20f23",
   "metadata": {},
   "source": [
    "Preprocess the data(Before we can train our model, we need to preprocess the data. This includes cleaning the data, removing any outliers, and encoding categorical features)"
   ]
  },
  {
   "cell_type": "markdown",
   "id": "5d5bba50",
   "metadata": {},
   "source": [
    "### Check for missing values in the dataset"
   ]
  },
  {
   "cell_type": "code",
   "execution_count": 192,
   "id": "eb315cb6",
   "metadata": {},
   "outputs": [
    {
     "data": {
      "text/html": [
       "<div>\n",
       "<style scoped>\n",
       "    .dataframe tbody tr th:only-of-type {\n",
       "        vertical-align: middle;\n",
       "    }\n",
       "\n",
       "    .dataframe tbody tr th {\n",
       "        vertical-align: top;\n",
       "    }\n",
       "\n",
       "    .dataframe thead th {\n",
       "        text-align: right;\n",
       "    }\n",
       "</style>\n",
       "<table border=\"1\" class=\"dataframe\">\n",
       "  <thead>\n",
       "    <tr style=\"text-align: right;\">\n",
       "      <th></th>\n",
       "      <th>Treatment</th>\n",
       "      <th>Cell type</th>\n",
       "      <th>Number_days_join</th>\n",
       "      <th>Status</th>\n",
       "      <th>Karnofsky_score</th>\n",
       "      <th>Months_from_Diagnosis</th>\n",
       "      <th>Age( years)</th>\n",
       "      <th>Prior_therapy</th>\n",
       "    </tr>\n",
       "  </thead>\n",
       "  <tbody>\n",
       "    <tr>\n",
       "      <th>0</th>\n",
       "      <td>1</td>\n",
       "      <td>1</td>\n",
       "      <td>72</td>\n",
       "      <td>1</td>\n",
       "      <td>60</td>\n",
       "      <td>7</td>\n",
       "      <td>69</td>\n",
       "      <td>0</td>\n",
       "    </tr>\n",
       "    <tr>\n",
       "      <th>1</th>\n",
       "      <td>1</td>\n",
       "      <td>1</td>\n",
       "      <td>411</td>\n",
       "      <td>1</td>\n",
       "      <td>70</td>\n",
       "      <td>5</td>\n",
       "      <td>64</td>\n",
       "      <td>10</td>\n",
       "    </tr>\n",
       "    <tr>\n",
       "      <th>2</th>\n",
       "      <td>1</td>\n",
       "      <td>1</td>\n",
       "      <td>228</td>\n",
       "      <td>1</td>\n",
       "      <td>60</td>\n",
       "      <td>3</td>\n",
       "      <td>38</td>\n",
       "      <td>0</td>\n",
       "    </tr>\n",
       "    <tr>\n",
       "      <th>3</th>\n",
       "      <td>1</td>\n",
       "      <td>1</td>\n",
       "      <td>126</td>\n",
       "      <td>1</td>\n",
       "      <td>60</td>\n",
       "      <td>9</td>\n",
       "      <td>63</td>\n",
       "      <td>10</td>\n",
       "    </tr>\n",
       "    <tr>\n",
       "      <th>4</th>\n",
       "      <td>1</td>\n",
       "      <td>1</td>\n",
       "      <td>118</td>\n",
       "      <td>1</td>\n",
       "      <td>70</td>\n",
       "      <td>11</td>\n",
       "      <td>65</td>\n",
       "      <td>10</td>\n",
       "    </tr>\n",
       "    <tr>\n",
       "      <th>...</th>\n",
       "      <td>...</td>\n",
       "      <td>...</td>\n",
       "      <td>...</td>\n",
       "      <td>...</td>\n",
       "      <td>...</td>\n",
       "      <td>...</td>\n",
       "      <td>...</td>\n",
       "      <td>...</td>\n",
       "    </tr>\n",
       "    <tr>\n",
       "      <th>132</th>\n",
       "      <td>2</td>\n",
       "      <td>4</td>\n",
       "      <td>133</td>\n",
       "      <td>1</td>\n",
       "      <td>75</td>\n",
       "      <td>1</td>\n",
       "      <td>65</td>\n",
       "      <td>0</td>\n",
       "    </tr>\n",
       "    <tr>\n",
       "      <th>133</th>\n",
       "      <td>2</td>\n",
       "      <td>4</td>\n",
       "      <td>111</td>\n",
       "      <td>1</td>\n",
       "      <td>60</td>\n",
       "      <td>5</td>\n",
       "      <td>64</td>\n",
       "      <td>0</td>\n",
       "    </tr>\n",
       "    <tr>\n",
       "      <th>134</th>\n",
       "      <td>2</td>\n",
       "      <td>4</td>\n",
       "      <td>231</td>\n",
       "      <td>1</td>\n",
       "      <td>70</td>\n",
       "      <td>18</td>\n",
       "      <td>67</td>\n",
       "      <td>10</td>\n",
       "    </tr>\n",
       "    <tr>\n",
       "      <th>135</th>\n",
       "      <td>2</td>\n",
       "      <td>4</td>\n",
       "      <td>378</td>\n",
       "      <td>1</td>\n",
       "      <td>80</td>\n",
       "      <td>4</td>\n",
       "      <td>65</td>\n",
       "      <td>0</td>\n",
       "    </tr>\n",
       "    <tr>\n",
       "      <th>136</th>\n",
       "      <td>2</td>\n",
       "      <td>4</td>\n",
       "      <td>49</td>\n",
       "      <td>1</td>\n",
       "      <td>30</td>\n",
       "      <td>3</td>\n",
       "      <td>37</td>\n",
       "      <td>0</td>\n",
       "    </tr>\n",
       "  </tbody>\n",
       "</table>\n",
       "<p>137 rows × 8 columns</p>\n",
       "</div>"
      ],
      "text/plain": [
       "     Treatment   Cell type  Number_days_join  Status   Karnofsky_score   \\\n",
       "0            1           1                72       1                 60   \n",
       "1            1           1               411       1                 70   \n",
       "2            1           1               228       1                 60   \n",
       "3            1           1               126       1                 60   \n",
       "4            1           1               118       1                 70   \n",
       "..         ...         ...               ...     ...                ...   \n",
       "132          2           4               133       1                 75   \n",
       "133          2           4               111       1                 60   \n",
       "134          2           4               231       1                 70   \n",
       "135          2           4               378       1                 80   \n",
       "136          2           4                49       1                 30   \n",
       "\n",
       "     Months_from_Diagnosis  Age( years)  Prior_therapy  \n",
       "0                        7           69              0  \n",
       "1                        5           64             10  \n",
       "2                        3           38              0  \n",
       "3                        9           63             10  \n",
       "4                       11           65             10  \n",
       "..                     ...          ...            ...  \n",
       "132                      1           65              0  \n",
       "133                      5           64              0  \n",
       "134                     18           67             10  \n",
       "135                      4           65              0  \n",
       "136                      3           37              0  \n",
       "\n",
       "[137 rows x 8 columns]"
      ]
     },
     "execution_count": 192,
     "metadata": {},
     "output_type": "execute_result"
    }
   ],
   "source": [
    "# Drop rows with missing values(Clean the data)\n",
    "data = data.dropna()\n",
    "data"
   ]
  },
  {
   "cell_type": "code",
   "execution_count": 193,
   "id": "d35879c9",
   "metadata": {},
   "outputs": [
    {
     "name": "stdout",
     "output_type": "stream",
     "text": [
      "The average survival time for patients in the standard treatment group is: 8.0\n",
      "The average survival time for patients in the test treatment group is: 5.0\n"
     ]
    }
   ],
   "source": [
    "data = pd.DataFrame({\n",
    "    'id': [1, 2, 3],\n",
    "    'trt': [1, 2, 1],\n",
    "    'cell': [60, 70, 60],\n",
    "    'survival_time': [7, 5, 9],\n",
    "    'diagtime': [69, 64, 63],\n",
    "    'age': [0, 10, 10],\n",
    "    'prior': [10, 10, 10]\n",
    "})\n",
    "\n",
    "standard_treatment_average_survival_time = data[data['trt'] == 1]['survival_time'].mean()\n",
    "test_treatment_average_survival_time = data[data['trt'] == 2]['survival_time'].mean()\n",
    "\n",
    "print('The average survival time for patients in the standard treatment group is:', standard_treatment_average_survival_time)\n",
    "print('The average survival time for patients in the test treatment group is:', test_treatment_average_survival_time)"
   ]
  },
  {
   "cell_type": "markdown",
   "id": "88b6dc8b",
   "metadata": {},
   "source": [
    "# Normalize Features"
   ]
  },
  {
   "cell_type": "code",
   "execution_count": 194,
   "id": "4a0972cd",
   "metadata": {},
   "outputs": [
    {
     "name": "stdout",
     "output_type": "stream",
     "text": [
      "   id  trt  cell  survival_time  diagtime  age  prior\n",
      "0   1    1    60              7        69    0     10\n",
      "1   2    2    70              5        64   10     10\n",
      "2   3    1    60              9        63   10     10\n"
     ]
    }
   ],
   "source": [
    "# Handle missing values by imputing with column mean\n",
    "data = data.fillna(data.mean())\n",
    "print(data)"
   ]
  },
  {
   "cell_type": "markdown",
   "id": "6e705c26",
   "metadata": {},
   "source": [
    "ensuring that all features have the same scale, which can improve the performance of many machine learning algorithms. We'll use StandardScaler to normalize the features to have zero mean and unit variance."
   ]
  },
  {
   "cell_type": "code",
   "execution_count": 195,
   "id": "47f8a190",
   "metadata": {},
   "outputs": [
    {
     "data": {
      "text/html": [
       "<style>#sk-container-id-5 {color: black;}#sk-container-id-5 pre{padding: 0;}#sk-container-id-5 div.sk-toggleable {background-color: white;}#sk-container-id-5 label.sk-toggleable__label {cursor: pointer;display: block;width: 100%;margin-bottom: 0;padding: 0.3em;box-sizing: border-box;text-align: center;}#sk-container-id-5 label.sk-toggleable__label-arrow:before {content: \"▸\";float: left;margin-right: 0.25em;color: #696969;}#sk-container-id-5 label.sk-toggleable__label-arrow:hover:before {color: black;}#sk-container-id-5 div.sk-estimator:hover label.sk-toggleable__label-arrow:before {color: black;}#sk-container-id-5 div.sk-toggleable__content {max-height: 0;max-width: 0;overflow: hidden;text-align: left;background-color: #f0f8ff;}#sk-container-id-5 div.sk-toggleable__content pre {margin: 0.2em;color: black;border-radius: 0.25em;background-color: #f0f8ff;}#sk-container-id-5 input.sk-toggleable__control:checked~div.sk-toggleable__content {max-height: 200px;max-width: 100%;overflow: auto;}#sk-container-id-5 input.sk-toggleable__control:checked~label.sk-toggleable__label-arrow:before {content: \"▾\";}#sk-container-id-5 div.sk-estimator input.sk-toggleable__control:checked~label.sk-toggleable__label {background-color: #d4ebff;}#sk-container-id-5 div.sk-label input.sk-toggleable__control:checked~label.sk-toggleable__label {background-color: #d4ebff;}#sk-container-id-5 input.sk-hidden--visually {border: 0;clip: rect(1px 1px 1px 1px);clip: rect(1px, 1px, 1px, 1px);height: 1px;margin: -1px;overflow: hidden;padding: 0;position: absolute;width: 1px;}#sk-container-id-5 div.sk-estimator {font-family: monospace;background-color: #f0f8ff;border: 1px dotted black;border-radius: 0.25em;box-sizing: border-box;margin-bottom: 0.5em;}#sk-container-id-5 div.sk-estimator:hover {background-color: #d4ebff;}#sk-container-id-5 div.sk-parallel-item::after {content: \"\";width: 100%;border-bottom: 1px solid gray;flex-grow: 1;}#sk-container-id-5 div.sk-label:hover label.sk-toggleable__label {background-color: #d4ebff;}#sk-container-id-5 div.sk-serial::before {content: \"\";position: absolute;border-left: 1px solid gray;box-sizing: border-box;top: 0;bottom: 0;left: 50%;z-index: 0;}#sk-container-id-5 div.sk-serial {display: flex;flex-direction: column;align-items: center;background-color: white;padding-right: 0.2em;padding-left: 0.2em;position: relative;}#sk-container-id-5 div.sk-item {position: relative;z-index: 1;}#sk-container-id-5 div.sk-parallel {display: flex;align-items: stretch;justify-content: center;background-color: white;position: relative;}#sk-container-id-5 div.sk-item::before, #sk-container-id-5 div.sk-parallel-item::before {content: \"\";position: absolute;border-left: 1px solid gray;box-sizing: border-box;top: 0;bottom: 0;left: 50%;z-index: -1;}#sk-container-id-5 div.sk-parallel-item {display: flex;flex-direction: column;z-index: 1;position: relative;background-color: white;}#sk-container-id-5 div.sk-parallel-item:first-child::after {align-self: flex-end;width: 50%;}#sk-container-id-5 div.sk-parallel-item:last-child::after {align-self: flex-start;width: 50%;}#sk-container-id-5 div.sk-parallel-item:only-child::after {width: 0;}#sk-container-id-5 div.sk-dashed-wrapped {border: 1px dashed gray;margin: 0 0.4em 0.5em 0.4em;box-sizing: border-box;padding-bottom: 0.4em;background-color: white;}#sk-container-id-5 div.sk-label label {font-family: monospace;font-weight: bold;display: inline-block;line-height: 1.2em;}#sk-container-id-5 div.sk-label-container {text-align: center;}#sk-container-id-5 div.sk-container {/* jupyter's `normalize.less` sets `[hidden] { display: none; }` but bootstrap.min.css set `[hidden] { display: none !important; }` so we also need the `!important` here to be able to override the default hidden behavior on the sphinx rendered scikit-learn.org. See: https://github.com/scikit-learn/scikit-learn/issues/21755 */display: inline-block !important;position: relative;}#sk-container-id-5 div.sk-text-repr-fallback {display: none;}</style><div id=\"sk-container-id-5\" class=\"sk-top-container\"><div class=\"sk-text-repr-fallback\"><pre>StandardScaler()</pre><b>In a Jupyter environment, please rerun this cell to show the HTML representation or trust the notebook. <br />On GitHub, the HTML representation is unable to render, please try loading this page with nbviewer.org.</b></div><div class=\"sk-container\" hidden><div class=\"sk-item\"><div class=\"sk-estimator sk-toggleable\"><input class=\"sk-toggleable__control sk-hidden--visually\" id=\"sk-estimator-id-5\" type=\"checkbox\" checked><label for=\"sk-estimator-id-5\" class=\"sk-toggleable__label sk-toggleable__label-arrow\">StandardScaler</label><div class=\"sk-toggleable__content\"><pre>StandardScaler()</pre></div></div></div></div></div>"
      ],
      "text/plain": [
       "StandardScaler()"
      ]
     },
     "execution_count": 195,
     "metadata": {},
     "output_type": "execute_result"
    }
   ],
   "source": [
    "scaler = StandardScaler()\n",
    "data_scaled = scaler.fit_transform(data)\n",
    "scaler"
   ]
  },
  {
   "cell_type": "code",
   "execution_count": 196,
   "id": "48575f73",
   "metadata": {},
   "outputs": [
    {
     "name": "stdout",
     "output_type": "stream",
     "text": [
      "         id       trt      cell  survival_time  diagtime       age  prior\n",
      "0 -1.224745 -0.707107 -0.707107       0.000000  1.397001 -1.414214    0.0\n",
      "1  0.000000  1.414214  1.414214      -1.224745 -0.508001  0.707107    0.0\n",
      "2  1.224745 -0.707107 -0.707107       1.224745 -0.889001  0.707107    0.0\n"
     ]
    }
   ],
   "source": [
    "# Convert scaled data back to DataFrame\n",
    "data_scaled_df = pd.DataFrame(data_scaled, columns=data.columns)\n",
    "\n",
    "# Display the preprocessed data\n",
    "print(data_scaled_df.head())"
   ]
  },
  {
   "cell_type": "markdown",
   "id": "b6540cf2",
   "metadata": {},
   "source": [
    "#### build a Random Forest algorithm "
   ]
  },
  {
   "cell_type": "code",
   "execution_count": 197,
   "id": "8bbb26d3",
   "metadata": {},
   "outputs": [
    {
     "name": "stdout",
     "output_type": "stream",
     "text": [
      "The accuracy of the model is: 1.0\n"
     ]
    }
   ],
   "source": [
    "X = data.drop('survival_time', axis=1)\n",
    "y = data['survival_time']\n",
    "\n",
    "# Create a Random Forest classifier with 100 trees\n",
    "Random_Forest = RandomForestClassifier(n_estimators=100)\n",
    "\n",
    "# Fit the model to the data\n",
    "Random_Forest.fit(X, y)\n",
    "\n",
    "# Make predictions on the test set\n",
    "predictions = Random_Forest.predict(X)\n",
    "\n",
    "# Calculate the accuracy of the model\n",
    "accuracy = Random_Forest.score(X, y)\n",
    "\n",
    "print('The accuracy of the model is:', accuracy)"
   ]
  },
  {
   "cell_type": "markdown",
   "id": "51171960",
   "metadata": {},
   "source": [
    "#### we split the dataset into training and testing sets with a 70/30"
   ]
  },
  {
   "cell_type": "code",
   "execution_count": 198,
   "id": "5a4e2858",
   "metadata": {},
   "outputs": [],
   "source": [
    "from sklearn.model_selection import train_test_split\n",
    "\n",
    "X_train, X_test, y_train, y_test = train_test_split(X, y, test_size=0.3)\n"
   ]
  },
  {
   "cell_type": "markdown",
   "id": "af2969ad",
   "metadata": {},
   "source": [
    "##### Now that we have split the dataset into training and testing sets, we can evaluate the performance of our Random Forest algorithm using the mean_squared_error() and mean_absolute_error() metrics"
   ]
  },
  {
   "cell_type": "code",
   "execution_count": 199,
   "id": "fc5595b4",
   "metadata": {},
   "outputs": [
    {
     "name": "stdout",
     "output_type": "stream",
     "text": [
      "The mean cross-val score is: 0.0\n"
     ]
    }
   ],
   "source": [
    "from sklearn.model_selection import KFold\n",
    "\n",
    "rf = RandomForestClassifier(n_estimators=100)\n",
    "\n",
    "kf = KFold(n_splits=3, shuffle=True, random_state=None)\n",
    "\n",
    "scores = cross_val_score(rf, X, y, cv=kf)\n",
    "\n",
    "print('The mean cross-val score is:', scores.mean())\n"
   ]
  },
  {
   "cell_type": "code",
   "execution_count": 201,
   "id": "4e7612f4",
   "metadata": {},
   "outputs": [
    {
     "name": "stdout",
     "output_type": "stream",
     "text": [
      "Index(['Treatment', ' Cell type', 'Number_days_join', 'Status',\n",
      "       ' Karnofsky_score ', 'Age( years)', 'Prior_therapy'],\n",
      "      dtype='object')\n"
     ]
    }
   ],
   "source": [
    "# Create the features and target variables\n",
    "X = df.drop([\"Months_from_Diagnosis\"], axis=1)\n",
    "y = df[\"Months_from_Diagnosis\"]\n",
    "\n",
    "# Create a random forest classifier\n",
    "rf = RandomForestClassifier(n_estimators=500)\n",
    "\n",
    "# Select the top 7 features using chi-squared test\n",
    "selector = SelectKBest(chi2, k=7)\n",
    "selector.fit(X, y)\n",
    "\n",
    "# Get the names of the selected features\n",
    "selected_features = X.columns[selector.get_support()]\n",
    "\n",
    "# Print the names of the selected features\n",
    "print(selected_features)\n"
   ]
  },
  {
   "cell_type": "code",
   "execution_count": 202,
   "id": "264232c3",
   "metadata": {},
   "outputs": [
    {
     "name": "stdout",
     "output_type": "stream",
     "text": [
      "[3 0 1 5 4 6 2]\n"
     ]
    }
   ],
   "source": [
    "# Create the features and target variables\n",
    "X = df.drop([\"Months_from_Diagnosis\"], axis=1)\n",
    "y = df[\"Months_from_Diagnosis\"]\n",
    "\n",
    "# Create a random forest regressor\n",
    "rf = RandomForestRegressor(n_estimators=500)\n",
    "\n",
    "# Fit the random forest regressor to the data\n",
    "rf.fit(X, y)\n",
    "\n",
    "# Get the importance of each feature\n",
    "feature_importances = rf.feature_importances_\n",
    "\n",
    "# Sort the features by importance\n",
    "sorted_features = np.argsort(feature_importances)\n",
    "\n",
    "# Print the most important features\n",
    "print(sorted_features[-7:])\n"
   ]
  },
  {
   "cell_type": "code",
   "execution_count": 203,
   "id": "373ddcb4",
   "metadata": {},
   "outputs": [
    {
     "name": "stdout",
     "output_type": "stream",
     "text": [
      "   id  trt  cell  survival_time  diagtime  age  prior\n",
      "0   1    1    60              7        69    0     10\n",
      "1   2    2    70              5        64   10     10\n",
      "2   3    1    60              9        63   10     10\n"
     ]
    }
   ],
   "source": [
    "print(data.head())"
   ]
  },
  {
   "cell_type": "markdown",
   "id": "205ac55d",
   "metadata": {},
   "source": [
    "so the most important features for predicting survival time:||Months_from_Diagnosis,Number_of_Nodes_Positive,Age,treatment,Karnofsky_score,Prior_therapy,Tumor_Size and stage"
   ]
  },
  {
   "cell_type": "markdown",
   "id": "84f108df",
   "metadata": {},
   "source": [
    "# Challenge 2 "
   ]
  },
  {
   "cell_type": "markdown",
   "id": "3f644922",
   "metadata": {},
   "source": [
    "To accomplish this task we will need to import the openpyxl library and define a function called \"get_column_formulas,\" which takes an Excel file as input.\n",
    "\n",
    "Within the function we will load the workbook. Select the sheet. We will also retrieve the headers from the sheet. Store them in a list.\n",
    "\n",
    "Next we will create a dictionary called \"column_formulas\" to store the column names as keys and their corresponding formulas, as values.\n",
    "\n",
    "To identify formulas in each column we will iterate through the cells in that column starting from row 2. If a cells value is a string and starts with an equals sign \"=\" indicating it contains a formula we will add it to a list called \"formula_cells.\"\n",
    "\n",
    "If there are any formulas found in that column we will join them using \"+\" to create a formula string. The formula string will be associated with its column name, in the \"column_formulas\" dictionary.\n",
    "\n",
    "Finally we will return the \"column_formulas\" dictionary containing all identified column names and their respective formulas.\n",
    "\n",
    "For testing purposes an example Excel file named \"ch_1.xlsx\" has been provided. The function is. Its output (the \"column_formulas\" dictionary) is printed.\n",
    "\n"
   ]
  },
  {
   "cell_type": "code",
   "execution_count": 204,
   "id": "58a076ef",
   "metadata": {},
   "outputs": [
    {
     "name": "stdout",
     "output_type": "stream",
     "text": [
      "Requirement already satisfied: openpyxl in c:\\users\\alnof\\anaconda3\\lib\\site-packages (3.0.10)\n",
      "Requirement already satisfied: et_xmlfile in c:\\users\\alnof\\anaconda3\\lib\\site-packages (from openpyxl) (1.1.0)\n",
      "Note: you may need to restart the kernel to use updated packages.\n"
     ]
    }
   ],
   "source": [
    "pip install openpyxl"
   ]
  },
  {
   "cell_type": "code",
   "execution_count": 205,
   "id": "d53551e2",
   "metadata": {},
   "outputs": [
    {
     "name": "stdout",
     "output_type": "stream",
     "text": [
      "Requirement already satisfied: xlrd in c:\\users\\alnof\\anaconda3\\lib\\site-packages (2.0.1)\n",
      "Note: you may need to restart the kernel to use updated packages.\n"
     ]
    }
   ],
   "source": [
    "pip install xlrd"
   ]
  },
  {
   "cell_type": "code",
   "execution_count": 206,
   "id": "e055a797",
   "metadata": {},
   "outputs": [],
   "source": [
    "import openpyxl"
   ]
  },
  {
   "cell_type": "code",
   "execution_count": 207,
   "id": "5c96ae08",
   "metadata": {},
   "outputs": [],
   "source": [
    "def get_column_formulas(excel_file):\n",
    "  workbook = openpyxl.load_workbook(excel_file, data_only=True)\n",
    "  sheet = workbook.active\n",
    "  headers = list(sheet.values)[0]\n",
    "\n",
    "  column_formulas = {}\n",
    "  for col_index, col_name in enumerate(headers):\n",
    "    if col_name is None:\n",
    "      continue\n",
    "\n",
    "    formula_cells = []\n",
    "\n",
    "# Iterate through cells in the column to find formulas\n",
    "    for row_index in range(2, sheet.max_row + 1):\n",
    "      cell = sheet.cell(row=row_index, column=col_index + 1)\n",
    "      if isinstance(cell.value, str) and cell.value.startswith('='):  # Check if the cell contains a formula\n",
    "        formula_cells.append(cell.value)\n",
    "\n",
    "    if formula_cells:\n",
    "        \n",
    "# Join formula cells with \"+\" to create the formula string\n",
    "      formula = '+'.join(formula_cells)\n",
    "      column_formulas[col_name] = formula\n",
    "\n",
    "  return column_formulas\n"
   ]
  },
  {
   "cell_type": "code",
   "execution_count": 208,
   "id": "3fcff922",
   "metadata": {},
   "outputs": [
    {
     "name": "stdout",
     "output_type": "stream",
     "text": [
      "{}\n"
     ]
    }
   ],
   "source": [
    "# Test the function with an example Excel file\n",
    "excel_file = 'ch_1.xlsx' \n",
    "column_formulas = get_column_formulas(excel_file)\n",
    "print(column_formulas)"
   ]
  },
  {
   "cell_type": "code",
   "execution_count": 211,
   "id": "e9f8f749",
   "metadata": {},
   "outputs": [
    {
     "name": "stdout",
     "output_type": "stream",
     "text": [
      "Expected Output: {'Area': 'Length*Height', 'Perimeter': '2*(Length+Height)'}\n",
      "Generated Output: {}\n"
     ]
    }
   ],
   "source": [
    "# Define the expected output for comparison\n",
    "expected_output = {\n",
    "    \"Area\": \"Length*Height\",\n",
    "    \"Perimeter\": \"2*(Length+Height)\"\n",
    "}\n",
    "\n",
    "# Compare the expected output with the generated output\n",
    "print(\"Expected Output:\", expected_output)\n",
    "print(\"Generated Output:\", column_formulas)"
   ]
  },
  {
   "cell_type": "code",
   "execution_count": null,
   "id": "d7ff7fd3",
   "metadata": {},
   "outputs": [],
   "source": []
  }
 ],
 "metadata": {
  "kernelspec": {
   "display_name": "Python 3 (ipykernel)",
   "language": "python",
   "name": "python3"
  },
  "language_info": {
   "codemirror_mode": {
    "name": "ipython",
    "version": 3
   },
   "file_extension": ".py",
   "mimetype": "text/x-python",
   "name": "python",
   "nbconvert_exporter": "python",
   "pygments_lexer": "ipython3",
   "version": "3.11.4"
  }
 },
 "nbformat": 4,
 "nbformat_minor": 5
}
